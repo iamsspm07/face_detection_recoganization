{
 "cells": [
  {
   "attachments": {},
   "cell_type": "markdown",
   "metadata": {},
   "source": [
    "**```Import Libraries```**"
   ]
  },
  {
   "cell_type": "code",
   "execution_count": 11,
   "metadata": {},
   "outputs": [],
   "source": [
    "import cv2\n",
    "import numpy as np\n",
    "import os\n",
    "import pickle\n",
    "import re\n",
    "import face_recognition\n",
    "\n",
    "# the same function we've used before\n",
    "from helper_functions import resize_video"
   ]
  },
  {
   "attachments": {},
   "cell_type": "markdown",
   "metadata": {},
   "source": [
    "**```Configurations```**"
   ]
  },
  {
   "cell_type": "code",
   "execution_count": 12,
   "metadata": {},
   "outputs": [],
   "source": [
    "pickle_name = \"face_encodings_custom.pickle\" # the name of the pickle file where are stored the encodings\n",
    "max_width = 800           # leave None if you don't want to resize and want to keep the original size of the video stream frame (but will take longer to process)"
   ]
  },
  {
   "attachments": {},
   "cell_type": "markdown",
   "metadata": {},
   "source": [
    "**```Load encodings from pickle file ```**"
   ]
  },
  {
   "cell_type": "code",
   "execution_count": 13,
   "metadata": {},
   "outputs": [],
   "source": [
    "# Load encodings from pickle file \n",
    "data_encoding = pickle.loads(open(pickle_name, \"rb\").read())\n",
    "list_encodings = data_encoding[\"encodings\"]\n",
    "list_names = data_encoding[\"names\"]"
   ]
  },
  {
   "attachments": {},
   "cell_type": "markdown",
   "metadata": {},
   "source": [
    "**```Recognize the faces Function```**"
   ]
  },
  {
   "cell_type": "code",
   "execution_count": 14,
   "metadata": {},
   "outputs": [],
   "source": [
    "# Recognize the faces in a given image (in this case, the frame of the video)\n",
    "# the function will return: face locations, face names, confidence values\n",
    "def recognize_faces(image, list_encodings, list_names, resizing=0.25, tolerance=0.6):\n",
    "  image = cv2.resize(image, (0, 0), fx=resizing, fy=resizing)\n",
    "\n",
    "  img_rgb = cv2.cvtColor(image, cv2.COLOR_BGR2RGB)\n",
    "  face_locations = face_recognition.face_locations(img_rgb)\n",
    "  face_encodings = face_recognition.face_encodings(img_rgb, face_locations)\n",
    "\n",
    "  face_names = []     # list used to store pred names results\n",
    "  conf_values = []    # list used to store pred conf results\n",
    "  for encoding in face_encodings:\n",
    "    # see if the face is a match for the known face(s)\n",
    "    matches = face_recognition.compare_faces(list_encodings, encoding, tolerance=tolerance)\n",
    "    name = \"Unknown Face\"\n",
    "    \n",
    "    # use the known face with the smallest distance to the new face\n",
    "    face_distances = face_recognition.face_distance(list_encodings, encoding)\n",
    "    best_match_index = np.argmin(face_distances)  # get index of the lower distance\n",
    "    if matches[best_match_index]:\n",
    "      name = list_names[best_match_index] # get name from list_names \n",
    "    face_names.append(name) \n",
    "    conf_values.append(face_distances[best_match_index])\n",
    "    #print(best_match_index, matches, face_names)\n",
    "\n",
    "  # convert to numpy array to adjust coordinates with frame resizing \n",
    "  face_locations = np.array(face_locations)\n",
    "  face_locations = face_locations / resizing\n",
    "  return face_locations.astype(int), face_names, conf_values"
   ]
  },
  {
   "attachments": {},
   "cell_type": "markdown",
   "metadata": {},
   "source": [
    "**```Recognition Bonding Box```**"
   ]
  },
  {
   "cell_type": "code",
   "execution_count": 15,
   "metadata": {},
   "outputs": [],
   "source": [
    "# show the recognition over the image (using the returned face locations, face names, confidence values) \n",
    "def show_recognition(frame, face_locations, face_names, conf_values):\n",
    "\n",
    "  # \"unzip\" the parameters of the face (face locations, face names, confidence values) \n",
    "  for face_loc, name, conf in zip(face_locations, face_names, conf_values):\n",
    "    y1, x2, y2, x1 = face_loc[0], face_loc[1], face_loc[2], face_loc[3]  # get the coordinates of the bounding box (ROI of the face)\n",
    "\n",
    "    conf = \"{:.8f}\".format(conf)\n",
    "    cv2.putText(frame, name,(x1, y1 - 10), cv2.FONT_HERSHEY_DUPLEX, 0.7, (20, 255, 0), 2, lineType=cv2.LINE_AA)\n",
    "    cv2.rectangle(frame, (x1, y1), (x2, y2), (20, 255, 0), 4)   \n",
    "    if name != \"Unknown Face\": \n",
    "        cv2.putText(frame, conf,(x1, y2 + 15), cv2.FONT_HERSHEY_DUPLEX, 0.5, (20, 255, 0), 1, lineType=cv2.LINE_AA)\n",
    "\n",
    "  return frame"
   ]
  },
  {
   "attachments": {},
   "cell_type": "markdown",
   "metadata": {},
   "source": [
    "**```Video capture object (webcam) ```**"
   ]
  },
  {
   "cell_type": "code",
   "execution_count": null,
   "metadata": {},
   "outputs": [],
   "source": [
    "# video capture object (webcam) \n",
    "cam = cv2.VideoCapture(0)\n",
    "\n",
    "\n",
    "# loop over every frame of the video stream\n",
    "while(True):\n",
    "    ret, frame = cam.read()\n",
    "\n",
    "    # resize only if a max_width is specified\n",
    "    if max_width is not None:\n",
    "        video_width, video_height = resize_video(frame.shape[1], frame.shape[0], max_width)\n",
    "        frame = cv2.resize(frame, (video_width, video_height))\n",
    "\n",
    "    face_locations, face_names, conf_values = recognize_faces(frame, list_encodings, list_names, 0.25)\n",
    "    print(face_locations)\n",
    "    processed_frame = show_recognition(frame, face_locations, face_names, conf_values)\n",
    "\n",
    "    cv2.imshow(\"Recognizing faces\", frame)\n",
    "    cv2.waitKey(1)\n",
    "\n",
    "print (\"Completed!\")\n",
    "cam.release()\n",
    "cv2.destroyAllWindows()"
   ]
  },
  {
   "cell_type": "code",
   "execution_count": null,
   "metadata": {},
   "outputs": [],
   "source": []
  }
 ],
 "metadata": {
  "kernelspec": {
   "display_name": "base",
   "language": "python",
   "name": "python3"
  },
  "language_info": {
   "codemirror_mode": {
    "name": "ipython",
    "version": 3
   },
   "file_extension": ".py",
   "mimetype": "text/x-python",
   "name": "python",
   "nbconvert_exporter": "python",
   "pygments_lexer": "ipython3",
   "version": "3.9.13"
  },
  "orig_nbformat": 4
 },
 "nbformat": 4,
 "nbformat_minor": 2
}
